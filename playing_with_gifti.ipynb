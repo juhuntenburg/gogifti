{
 "cells": [
  {
   "cell_type": "code",
   "execution_count": 97,
   "metadata": {
    "collapsed": true
   },
   "outputs": [],
   "source": [
    "import nibabel as nb\n",
    "import numpy as np"
   ]
  },
  {
   "cell_type": "code",
   "execution_count": 134,
   "metadata": {
    "collapsed": true
   },
   "outputs": [],
   "source": [
    "geometry = nb.load('/home/julia/nilearn_data/fsaverage5/pial.left.gii')\n",
    "oned_data = nb.load('/home/julia/nilearn_data/fsaverage5/sulc.left.gii')\n",
    "mored_data = nb.load('/home/julia/nilearn_data/nki_enhanced_surface/A00028185/A00028185_left_preprocessed_fwhm6.gii')"
   ]
  },
  {
   "cell_type": "code",
   "execution_count": 100,
   "metadata": {
    "collapsed": false
   },
   "outputs": [],
   "source": [
    "def add_data(data, gii=None, intent='NIFTI_INTENT_NONE'):\n",
    "    # if no gii given, create one, otherwise this code changes the given nii in place, is that good?\n",
    "    if gii is None: \n",
    "        gii = nb.gifti.GiftiImage()\n",
    "        \n",
    "    if isinstance(data, list):\n",
    "        for i in range(len(list)):\n",
    "            if isinstance(intent, list):\n",
    "                gii.add_gifti_data_array(nb.gifti.GiftiDataArray(data[i], intent=intent[i]))\n",
    "            else:\n",
    "                gii.add_gifti_data_array(nb.gifti.GiftiDataArray(data[i], intent=intent))\n",
    "    else: \n",
    "        gii.add_gifti_data_array(nb.gifti.GiftiDataArray(data, intent=intent)) \n",
    "        \n",
    "    return gii"
   ]
  },
  {
   "cell_type": "code",
   "execution_count": 127,
   "metadata": {
    "collapsed": false
   },
   "outputs": [],
   "source": [
    "def get_data(gii, intent=None):\n",
    "    \n",
    "    if len(gii.darrays) != 0:\n",
    "        data = []\n",
    "        for darray in gii.darrays:\n",
    "            # do not return POINTSETS or TRIANGLES\n",
    "            if darray.intent in [1008, 1009]:\n",
    "                pass\n",
    "            else:\n",
    "                data.append(darray.data)\n",
    "        if len(data) == 0:\n",
    "            ValueError('The GiftiImage only contains geometric information.\\\n",
    "                        Use .get_geometry() to access this information.')\n",
    "        return data\n",
    "        \n",
    "    else:\n",
    "        raise IOError('The GiftiImage contains no data')"
   ]
  },
  {
   "cell_type": "code",
   "execution_count": 157,
   "metadata": {
    "collapsed": true
   },
   "outputs": [],
   "source": [
    "def add_geometry(coords, faces, gii=None):\n",
    "    # if no gii given, create one, otherwise this code changes the given nii in place, is that good?\n",
    "    if gii is None: \n",
    "        gii = nb.gifti.GiftiImage()\n",
    "        \n",
    "    gii.add_gifti_data_array(nb.gifti.GiftiDataArray(coords, intent='NIFTI_INTENT_POINTSET'))\n",
    "    gii.add_gifti_data_array(nb.gifti.GiftiDataArray(faces, intent='NIFTI_INTENT_TRIANGLE'))\n",
    "    \n",
    "    return gii"
   ]
  },
  {
   "cell_type": "code",
   "execution_count": 144,
   "metadata": {
    "collapsed": true
   },
   "outputs": [],
   "source": [
    "def get_geometry(gii):\n",
    "    \n",
    "    coords = gii.get_arrays_from_intent('NIFTI_INTENT_POINTSET')\n",
    "    if len(coords) == 0:\n",
    "        raise IOError('GiftiImage contains no node coordinates')\n",
    "\n",
    "    faces = gii.get_arrays_from_intent('NIFTI_INTENT_TRIANGLE')\n",
    "    if len(faces) == 0:\n",
    "        raise IOError('GiftiImage contains no face indices')\n",
    "    \n",
    "    return coords, faces"
   ]
  },
  {
   "cell_type": "code",
   "execution_count": 52,
   "metadata": {
    "collapsed": false
   },
   "outputs": [],
   "source": [
    "def make_gii(data=None, intent=None, nodes=None, faces=None):\n",
    "    darrays = []\n",
    "    if nodes is not None:\n",
    "        darrays.append(nb.gifti.GiftiDataArray(nodes, intent='NIFTI_INTENT_POINTSET'))\n",
    "    if faces is not None:\n",
    "        darrays.append(nb.gifti.GiftiDataArray(faces, intent='NIFTI_INTENT_TRIANGLE'))\n",
    "    if data is not None:\n",
    "        if isinstance(data, list):\n",
    "            for i in range(len(i)):\n",
    "                if isinstance(intent, list):\n",
    "                    darray.append(nb.gifti.GiftiDataArray(data[i], intent=intent[i]))\n",
    "                else:\n",
    "                    darray.append(nb.gifti.GiftiDataArray(data[i], intent=intent))\n",
    "        else: \n",
    "            darray.append(nb.gifti.GiftiDataArray(data, intent=intent))               \n",
    "            \n",
    "    gii = nb.gifti.GiftiImage(darrays=darrays)\n",
    "    return gii"
   ]
  },
  {
   "cell_type": "code",
   "execution_count": 149,
   "metadata": {
    "collapsed": false
   },
   "outputs": [],
   "source": [
    " newgii = geometry"
   ]
  },
  {
   "cell_type": "code",
   "execution_count": 154,
   "metadata": {
    "collapsed": false
   },
   "outputs": [
    {
     "data": {
      "text/plain": [
       "4"
      ]
     },
     "execution_count": 154,
     "metadata": {},
     "output_type": "execute_result"
    }
   ],
   "source": [
    "len(newgii.darrays)"
   ]
  },
  {
   "cell_type": "code",
   "execution_count": 163,
   "metadata": {
    "collapsed": false
   },
   "outputs": [
    {
     "data": {
      "text/plain": [
       "5"
      ]
     },
     "execution_count": 163,
     "metadata": {},
     "output_type": "execute_result"
    }
   ],
   "source": [
    "len(geometry.darrays)"
   ]
  },
  {
   "cell_type": "code",
   "execution_count": 159,
   "metadata": {
    "collapsed": false
   },
   "outputs": [
    {
     "data": {
      "text/plain": [
       "[<nibabel.gifti.gifti.GiftiDataArray at 0x7f6aa2965d90>]"
      ]
     },
     "execution_count": 159,
     "metadata": {},
     "output_type": "execute_result"
    }
   ],
   "source": [
    "oned_data.darrays[0].data"
   ]
  },
  {
   "cell_type": "code",
   "execution_count": 160,
   "metadata": {
    "collapsed": false
   },
   "outputs": [
    {
     "data": {
      "text/plain": [
       "<nibabel.gifti.gifti.GiftiImage at 0x7f6aa0774a90>"
      ]
     },
     "execution_count": 160,
     "metadata": {},
     "output_type": "execute_result"
    }
   ],
   "source": [
    "add_data(data=oned_data.darrays[0].data, gii=newgii)"
   ]
  },
  {
   "cell_type": "code",
   "execution_count": 162,
   "metadata": {
    "collapsed": false
   },
   "outputs": [
    {
     "data": {
      "text/plain": [
       "5"
      ]
     },
     "execution_count": 162,
     "metadata": {},
     "output_type": "execute_result"
    }
   ],
   "source": [
    "len(newgii.darrays)"
   ]
  },
  {
   "cell_type": "code",
   "execution_count": null,
   "metadata": {
    "collapsed": true
   },
   "outputs": [],
   "source": []
  }
 ],
 "metadata": {
  "kernelspec": {
   "display_name": "Python 2",
   "language": "python",
   "name": "python2"
  },
  "language_info": {
   "codemirror_mode": {
    "name": "ipython",
    "version": 2
   },
   "file_extension": ".py",
   "mimetype": "text/x-python",
   "name": "python",
   "nbconvert_exporter": "python",
   "pygments_lexer": "ipython2",
   "version": "2.7.6"
  }
 },
 "nbformat": 4,
 "nbformat_minor": 1
}
